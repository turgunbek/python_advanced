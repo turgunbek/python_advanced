{
 "cells": [
  {
   "cell_type": "markdown",
   "id": "11a22a53",
   "metadata": {},
   "source": [
    "# Дектораторы\n",
    "\n",
    "В этом файле приведены решения данных трёх задач. Всё лишнее убрал."
   ]
  },
  {
   "cell_type": "raw",
   "id": "0ae46313-3a52-48c2-b1dd-df86a01b83be",
   "metadata": {},
   "source": []
  },
  {
   "cell_type": "markdown",
   "id": "23b94491",
   "metadata": {},
   "source": [
    "## Задача 1"
   ]
  },
  {
   "cell_type": "markdown",
   "id": "1eb22a2f",
   "metadata": {},
   "source": [
    "Подменим метод `write` у объекта `sys.stdin` на такую функцию, которая перед каждым вызовом оригинальной функции записи данных в `stdout` допечатывает к тексту текущую метку времени."
   ]
  },
  {
   "cell_type": "code",
   "execution_count": 6,
   "id": "fb2e4f7c-41a0-4e81-9a39-84ff93a249c3",
   "metadata": {
    "tags": []
   },
   "outputs": [],
   "source": [
    "import sys\n",
    "from datetime import datetime"
   ]
  },
  {
   "cell_type": "code",
   "execution_count": 7,
   "id": "732073b9",
   "metadata": {
    "tags": []
   },
   "outputs": [],
   "source": [
    "# сохраним оригинальную функцию из sys.stdout\n",
    "original_write = sys.stdout.write\n",
    "\n",
    "def my_write(string_text):\n",
    "    \"\"\"Кастомная функция write для подмеы метода write у\n",
    "    объекта sys.stdout. Допечатывая текущую метку времени\n",
    "    \"\"\"\n",
    "\n",
    "    if string_text != \"\\n\":\n",
    "        timestamp = datetime.now().strftime(\"[%Y-%m-%d %H:%M:%S]\")\n",
    "        string_text = f\"{timestamp}: {string_text}\"\n",
    "    original_write(string_text)\n",
    "\n",
    "\n",
    "sys.stdout.write = my_write  # \"подменяем\" функцию"
   ]
  },
  {
   "cell_type": "code",
   "execution_count": 8,
   "id": "d8f650f6",
   "metadata": {
    "tags": []
   },
   "outputs": [
    {
     "name": "stdout",
     "output_type": "stream",
     "text": [
      "[2023-12-14 15:07:26]: 1, 2, 3\n",
      "[2023-12-14 15:07:26]: Hello\n",
      "[2023-12-14 15:07:26]: 5\n"
     ]
    }
   ],
   "source": [
    "# вывод с временными метками\n",
    "print('1, 2, 3')\n",
    "print('Hello')\n",
    "print(2 + 3)"
   ]
  },
  {
   "cell_type": "code",
   "execution_count": 9,
   "id": "37617332",
   "metadata": {
    "tags": []
   },
   "outputs": [
    {
     "name": "stdout",
     "output_type": "stream",
     "text": [
      "Hello\n"
     ]
    }
   ],
   "source": [
    "# вернем сохраненную оригинальную функцию из sys.stdout\n",
    "sys.stdout.write = original_write\n",
    "print('Hello')  # вывод без временных меток"
   ]
  },
  {
   "cell_type": "raw",
   "id": "4bc7d17f-9fe3-4f21-bbe3-0e9be07a4217",
   "metadata": {},
   "source": []
  },
  {
   "cell_type": "markdown",
   "id": "903fcee1",
   "metadata": {},
   "source": [
    "## Задача 2\n",
    "\n",
    "Упакуем только что написанный код в декторатор. Весь вывод фукнции быть помечен временными метками так, как видно выше."
   ]
  },
  {
   "cell_type": "code",
   "execution_count": 10,
   "id": "5804423b",
   "metadata": {
    "tags": []
   },
   "outputs": [],
   "source": [
    "def timed_output(function):\n",
    "    original_write = sys.stdout.write\n",
    "\n",
    "    def my_write(string_text):\n",
    "        \"\"\"Кастомная функция write для подмеы метода write у\n",
    "        объекта sys.stdout. Допечатывая текущую метку времени\n",
    "        \"\"\"\n",
    "        if string_text != \"\\n\":\n",
    "            timestamp = datetime.now().strftime(\"[%Y-%m-%d %H:%M:%S]\")\n",
    "            string_text = f\"{timestamp}: {string_text}\"\n",
    "        original_write(string_text)\n",
    "\n",
    "    def wrapper(*args, **kwargs):\n",
    "        sys.stdout.write = my_write\n",
    "        result = function(*args, **kwargs)\n",
    "        sys.stdout.write = original_write\n",
    "        return result\n",
    "\n",
    "    return wrapper"
   ]
  },
  {
   "cell_type": "code",
   "execution_count": 11,
   "id": "f43373a5",
   "metadata": {
    "tags": []
   },
   "outputs": [],
   "source": [
    "@timed_output\n",
    "def print_greeting(name):\n",
    "    print(f'Hello, {name}!')"
   ]
  },
  {
   "cell_type": "code",
   "execution_count": 12,
   "id": "6a2283db",
   "metadata": {
    "tags": []
   },
   "outputs": [
    {
     "name": "stdout",
     "output_type": "stream",
     "text": [
      "[2023-12-14 15:08:33]: Hello, Avito!\n"
     ]
    }
   ],
   "source": [
    "print_greeting(\"Avito\")"
   ]
  },
  {
   "cell_type": "raw",
   "id": "86f4979b-2aa1-4bd0-b451-7ed650b7ca5b",
   "metadata": {},
   "source": []
  },
  {
   "cell_type": "markdown",
   "id": "8a3aee6d",
   "metadata": {},
   "source": [
    "## Задача 3\n",
    "\n",
    "Напишем декторатор, который будет перенаправлять вывод фукнции в файл."
   ]
  },
  {
   "cell_type": "code",
   "execution_count": 13,
   "id": "de733186",
   "metadata": {
    "tags": []
   },
   "outputs": [],
   "source": [
    "def redirect_output(filepath):\n",
    "    def decorator(func):\n",
    "        def wrapper(*args, **kwargs):\n",
    "            original_stdout = sys.stdout\n",
    "            with open(filepath, 'w') as file:\n",
    "                sys.stdout = file\n",
    "                result = func(*args, **kwargs)\n",
    "                sys.stdout = original_stdout\n",
    "            return result\n",
    "        return wrapper\n",
    "    return decorator"
   ]
  },
  {
   "cell_type": "code",
   "execution_count": 14,
   "id": "37e01742",
   "metadata": {
    "tags": []
   },
   "outputs": [],
   "source": [
    "@redirect_output('./function_output.txt')\n",
    "def calculate():\n",
    "    for power in range(1, 5):\n",
    "        for num in range(1, 20):\n",
    "            print(num ** power, end=' ')\n",
    "        print()"
   ]
  },
  {
   "cell_type": "code",
   "execution_count": 15,
   "id": "e892f124",
   "metadata": {
    "tags": []
   },
   "outputs": [],
   "source": [
    "calculate()"
   ]
  },
  {
   "cell_type": "markdown",
   "id": "6be3193f-9521-45de-94fa-f10f1f7be376",
   "metadata": {},
   "source": [
    "```%cat function_output.txt``` в Windows у меня не работает, поэтому вместо него использовал ```%load function_output.txt```"
   ]
  },
  {
   "cell_type": "code",
   "execution_count": 18,
   "id": "ac06c89e",
   "metadata": {
    "tags": []
   },
   "outputs": [],
   "source": [
    "# %load function_output.txt\n",
    "1 2 3 4 5 6 7 8 9 10 11 12 13 14 15 16 17 18 19 \n",
    "1 4 9 16 25 36 49 64 81 100 121 144 169 196 225 256 289 324 361 \n",
    "1 8 27 64 125 216 343 512 729 1000 1331 1728 2197 2744 3375 4096 4913 5832 6859 \n",
    "1 16 81 256 625 1296 2401 4096 6561 10000 14641 20736 28561 38416 50625 65536 83521 104976 130321 \n"
   ]
  },
  {
   "cell_type": "code",
   "execution_count": null,
   "id": "1dcf9ba1",
   "metadata": {},
   "outputs": [],
   "source": []
  }
 ],
 "metadata": {
  "kernelspec": {
   "display_name": "Python 3 (ipykernel)",
   "language": "python",
   "name": "python3"
  },
  "language_info": {
   "codemirror_mode": {
    "name": "ipython",
    "version": 3
   },
   "file_extension": ".py",
   "mimetype": "text/x-python",
   "name": "python",
   "nbconvert_exporter": "python",
   "pygments_lexer": "ipython3",
   "version": "3.11.5"
  }
 },
 "nbformat": 4,
 "nbformat_minor": 5
}
